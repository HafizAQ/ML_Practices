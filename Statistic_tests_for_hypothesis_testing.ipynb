{
  "nbformat": 4,
  "nbformat_minor": 0,
  "metadata": {
    "colab": {
      "provenance": [],
      "authorship_tag": "ABX9TyM76wMoij25m0c2HXnW/Z7Q",
      "include_colab_link": true
    },
    "kernelspec": {
      "name": "python3",
      "display_name": "Python 3"
    },
    "language_info": {
      "name": "python"
    }
  },
  "cells": [
    {
      "cell_type": "markdown",
      "metadata": {
        "id": "view-in-github",
        "colab_type": "text"
      },
      "source": [
        "<a href=\"https://colab.research.google.com/github/HafizAQ/ML_Practices/blob/main/Statistic_tests_for_hypothesis_testing.ipynb\" target=\"_parent\"><img src=\"https://colab.research.google.com/assets/colab-badge.svg\" alt=\"Open In Colab\"/></a>"
      ]
    },
    {
      "cell_type": "markdown",
      "source": [
        "**Courtesy:** https://blog.keithmcnulty.org/the-three-most-common-statistical-tests-you-should-deeply-understand-174ef0221378"
      ],
      "metadata": {
        "id": "e9-AHD7BWLSx"
      }
    },
    {
      "cell_type": "markdown",
      "source": [
        "i) **Welch's t-test** for hypothesis testing (over t-distribution): Tests whether two populations (high performance vs low performance) have different means"
      ],
      "metadata": {
        "id": "piV-UbMgZQwh"
      }
    },
    {
      "cell_type": "code",
      "execution_count": 10,
      "metadata": {
        "id": "aCG2dZA9TEgW"
      },
      "outputs": [],
      "source": [
        "import pandas as pd\n",
        "from scipy import stats\n",
        "\n",
        "#get data\n",
        "url = \"http://peopleanalytics-regression-book.org/data/salespeople.csv\"\n",
        "salespeople = pd.read_csv(url)\n",
        "\n",
        "# print(salespeople[salespeople.performance==1].sales)\n"
      ]
    },
    {
      "cell_type": "code",
      "source": [
        "# get sales for top and bottom performers\n",
        "perf1 = salespeople[salespeople.performance == 1].sales\n",
        "perf4 = salespeople[salespeople.performance == 4].sales\n",
        "\n",
        "# welch's independent t-test with unequal variance\n",
        "ttest = stats.ttest_ind(perf4, perf1, equal_var=False, alternative = \"greater\")\n",
        "print(ttest)\n"
      ],
      "metadata": {
        "colab": {
          "base_uri": "https://localhost:8080/"
        },
        "id": "VvrUZBkGW7ay",
        "outputId": "5957bb0e-d0a0-44b7-f7e7-e06287e5c556"
      },
      "execution_count": 13,
      "outputs": [
        {
          "output_type": "stream",
          "name": "stdout",
          "text": [
            "TtestResult(statistic=4.629477606844271, pvalue=5.466221730788518e-06, df=100.9768911762055)\n"
          ]
        }
      ]
    },
    {
      "cell_type": "markdown",
      "source": [
        "ii) **Correlation Test:** tests whether two numeric variable have a **non-zero correlation**"
      ],
      "metadata": {
        "id": "pBGDv2OJZrs1"
      }
    },
    {
      "cell_type": "code",
      "source": [
        "import numpy as np\n",
        "\n",
        "#calculate correlation and p-value\n",
        "sales = salespeople.sales[~np.isnan(salespeople.sales)]\n",
        "cust_rate = salespeople.customer_rate[~np.isnan(salespeople.customer_rate)]\n",
        "corr = stats.pearsonr(sales, cust_rate) #Pearson Correlation\n",
        "print(corr)"
      ],
      "metadata": {
        "colab": {
          "base_uri": "https://localhost:8080/"
        },
        "id": "VJaaIcPdYFQj",
        "outputId": "af70b369-8049-43f7-ba12-3b5263830d5a"
      },
      "execution_count": 15,
      "outputs": [
        {
          "output_type": "stream",
          "name": "stdout",
          "text": [
            "PearsonRResult(statistic=0.33780504485867807, pvalue=8.64795221209228e-11)\n"
          ]
        }
      ]
    },
    {
      "cell_type": "markdown",
      "source": [
        "iii) **Chi-square:** Difference in the proportion across different categories (Chi-square statistic + the p-value + the degree of freedom)"
      ],
      "metadata": {
        "id": "-tj-1uombIXX"
      }
    },
    {
      "cell_type": "code",
      "source": [
        "#contigency table: Proported vs performance\n",
        "contingency_table = pd.crosstab(salespeople.promoted, salespeople.performance)\n",
        "print(contingency_table)"
      ],
      "metadata": {
        "colab": {
          "base_uri": "https://localhost:8080/"
        },
        "id": "qDyi01r1a-Pf",
        "outputId": "a42f745d-db43-4b9d-b71e-91dad4b57ad8"
      },
      "execution_count": 17,
      "outputs": [
        {
          "output_type": "stream",
          "name": "stdout",
          "text": [
            "performance  1.0  2.0  3.0  4.0\n",
            "promoted                       \n",
            "0             50   85   77   25\n",
            "1             10   25   48   30\n"
          ]
        }
      ]
    },
    {
      "cell_type": "code",
      "source": [
        "#Performing chi-square test\n",
        "chi2_test = stats.chi2_contingency(contingency_table)\n",
        "print(chi2_test)"
      ],
      "metadata": {
        "colab": {
          "base_uri": "https://localhost:8080/"
        },
        "id": "H_y95cChdFPn",
        "outputId": "3808d271-9391-4dd5-ae39-32eb29624247"
      },
      "execution_count": 18,
      "outputs": [
        {
          "output_type": "stream",
          "name": "stdout",
          "text": [
            "Chi2ContingencyResult(statistic=25.895405268094862, pvalue=1.0030629464566802e-05, dof=3, expected_freq=array([[40.62857143, 74.48571429, 84.64285714, 37.24285714],\n",
            "       [19.37142857, 35.51428571, 40.35714286, 17.75714286]]))\n"
          ]
        }
      ]
    },
    {
      "cell_type": "code",
      "source": [],
      "metadata": {
        "id": "AK1AzzridiqV"
      },
      "execution_count": null,
      "outputs": []
    }
  ]
}