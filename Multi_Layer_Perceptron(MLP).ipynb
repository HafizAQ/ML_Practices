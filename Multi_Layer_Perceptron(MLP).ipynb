{
  "nbformat": 4,
  "nbformat_minor": 0,
  "metadata": {
    "colab": {
      "provenance": [],
      "authorship_tag": "ABX9TyNHzYHeGp0UuHzP9ASsIQ97",
      "include_colab_link": true
    },
    "kernelspec": {
      "name": "python3",
      "display_name": "Python 3"
    },
    "language_info": {
      "name": "python"
    }
  },
  "cells": [
    {
      "cell_type": "markdown",
      "metadata": {
        "id": "view-in-github",
        "colab_type": "text"
      },
      "source": [
        "<a href=\"https://colab.research.google.com/github/HafizAQ/ML_Practices/blob/main/Multi_Layer_Perceptron(MLP).ipynb\" target=\"_parent\"><img src=\"https://colab.research.google.com/assets/colab-badge.svg\" alt=\"Open In Colab\"/></a>"
      ]
    },
    {
      "cell_type": "markdown",
      "source": [
        "Courtesy: https://towardsdatascience.com/multilayer-perceptron-explained-a-visual-guide-with-mini-2d-dataset-0ae8100c5d1c\n",
        "\n",
        "#Multilayer Perceptron (MLP): Input layer, one or more middle(hidden) layer and an output layer\n"
      ],
      "metadata": {
        "id": "7XlCBF9bYGdX"
      }
    },
    {
      "cell_type": "code",
      "execution_count": 1,
      "metadata": {
        "colab": {
          "base_uri": "https://localhost:8080/"
        },
        "id": "Tur_dvULUvHM",
        "outputId": "c1cfc2b7-56da-4519-9847-61557e367d94"
      },
      "outputs": [
        {
          "output_type": "stream",
          "name": "stdout",
          "text": [
            "Accuracy: 0.60\n"
          ]
        }
      ],
      "source": [
        "import pandas as pd\n",
        "import numpy as np\n",
        "from sklearn.neural_network import MLPClassifier\n",
        "from sklearn.metrics import accuracy_score\n",
        "\n",
        "# Create our simple 2D dataset\n",
        "df = pd.DataFrame({\n",
        "    '🌞': [0, 1, 1, 2, 3, 3, 2, 3, 0, 0, 1, 2, 3],\n",
        "    '💧': [0, 0, 1, 0, 1, 2, 3, 3, 1, 2, 3, 2, 1],\n",
        "    'y': [1, -1, -1, -1, 1, 1, 1, -1, -1, -1, 1, 1, 1]\n",
        "}, index=range(1, 14))\n",
        "\n",
        "# Split into training and test sets\n",
        "train_df, test_df = df.iloc[:8].copy(), df.iloc[8:].copy()\n",
        "X_train, y_train = train_df[['🌞', '💧']], train_df['y']\n",
        "X_test, y_test = test_df[['🌞', '💧']], test_df['y']\n",
        "\n",
        "# Create and configure our neural network\n",
        "mlp = MLPClassifier(\n",
        "    hidden_layer_sizes=(3, 2), # Creates a 2-3-2-1 architecture as discussed\n",
        "    activation='relu',         # ReLU activation for hidden layers\n",
        "    solver='sgd',              # Stochastic Gradient Descent optimizer\n",
        "    learning_rate_init=0.1,    # Step size for weight updates\n",
        "    max_iter=1000,             # Maximum number of epochs\n",
        "    momentum=0,                # Disable momentum for pure SGD as discussed\n",
        "    random_state=42            # For reproducible results\n",
        ")\n",
        "\n",
        "# Train the model\n",
        "mlp.fit(X_train, y_train)\n",
        "\n",
        "# Make predictions and evaluate\n",
        "y_pred = mlp.predict(X_test)\n",
        "accuracy = accuracy_score(y_test, y_pred)\n",
        "print(f\"Accuracy: {accuracy:.2f}\")"
      ]
    },
    {
      "cell_type": "code",
      "source": [],
      "metadata": {
        "id": "m3q8TJ3jYtOj"
      },
      "execution_count": null,
      "outputs": []
    }
  ]
}