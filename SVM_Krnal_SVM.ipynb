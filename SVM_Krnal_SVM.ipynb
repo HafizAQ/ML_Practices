{
  "nbformat": 4,
  "nbformat_minor": 0,
  "metadata": {
    "colab": {
      "provenance": [],
      "authorship_tag": "ABX9TyMBhleiPxmsvYQ81qboY3+E",
      "include_colab_link": true
    },
    "kernelspec": {
      "name": "python3",
      "display_name": "Python 3"
    },
    "language_info": {
      "name": "python"
    }
  },
  "cells": [
    {
      "cell_type": "markdown",
      "metadata": {
        "id": "view-in-github",
        "colab_type": "text"
      },
      "source": [
        "<a href=\"https://colab.research.google.com/github/HafizAQ/ML_Practices/blob/main/SVM_Krnal_SVM.ipynb\" target=\"_parent\"><img src=\"https://colab.research.google.com/assets/colab-badge.svg\" alt=\"Open In Colab\"/></a>"
      ]
    },
    {
      "cell_type": "markdown",
      "source": [
        "Courtesy: https://www.geeksforgeeks.org/implementing-svm-and-kernel-svm-with-pythons-scikit-learn/\n",
        "\n",
        "#Support Vector Machine (SVM)\n",
        "- Supervised Learning Algorithm\n",
        "- Can be used for **classification** and **regression** tasks\n",
        "- Better Performance in **non-linear** boundaries in dataset\n",
        "- SVM **constructs a hyper-plane** or set of hyper-planes in a high-dimensional space\n",
        "- Used to **sperate different classes**, or to **predict continuous variables**\n",
        "- SVMs are used to find the hyperplane in the **high dimensional space** with a maximum distance between the data points close to the hyperplane, called support vectors."
      ],
      "metadata": {
        "id": "h5jW728rledm"
      }
    },
    {
      "cell_type": "code",
      "source": [
        "# Import necessary libraries\n",
        "from sklearn import svm\n",
        "from sklearn import datasets\n",
        "\n",
        "# Load the Iris dataset\n",
        "iris = datasets.load_iris()\n",
        "# We only take the first two\n",
        "# features for simplicity\n",
        "X = iris.data[:, :2]\n",
        "y = iris.target"
      ],
      "metadata": {
        "id": "z2_AidPild7m"
      },
      "execution_count": 1,
      "outputs": []
    },
    {
      "cell_type": "code",
      "execution_count": 2,
      "metadata": {
        "colab": {
          "base_uri": "https://localhost:8080/"
        },
        "id": "qMwrThalV7Ld",
        "outputId": "0c123df6-d6c2-4ed5-b23c-50e5cf434a10"
      },
      "outputs": [
        {
          "output_type": "stream",
          "name": "stdout",
          "text": [
            "SVM Accuracy: 0.82\n"
          ]
        }
      ],
      "source": [
        "# Fit the SVM model\n",
        "model = svm.SVC(kernel='linear') #classification problem\n",
        "model.fit(X, y)\n",
        "\n",
        "# Predict using the SVM model\n",
        "predictions = model.predict(X)\n",
        "\n",
        "# Evaluate the predictions\n",
        "accuracy = model.score(X, y)\n",
        "print(\"SVM Accuracy:\", accuracy)\n"
      ]
    },
    {
      "cell_type": "markdown",
      "source": [
        "#####Kernel SVM\n",
        "- **Kernel support vector machines (KSVMs)**: Kernel support vector machines (KSVMs) use **kernel functions** to find the maximum-margin hyperplane in non-linear or regression problems\n",
        "- Kernal Functions: The Kernal function transforms the data into a higher dimensional form, which is linearly separable"
      ],
      "metadata": {
        "id": "-Ri1M4xJraHe"
      }
    },
    {
      "cell_type": "code",
      "source": [
        "#Kernal SVM: Variant of SVMs, uses Kernal functions to find the maximum-margin hyperplane in non-linear classification or regression problem\n",
        "from sklearn.svm import SVC\n",
        "from sklearn.preprocessing import StandardScaler\n",
        "\n",
        "# Dummy function to simulate loading the data from a file\n",
        "\n",
        "def load_data():\n",
        "\tX_train = [[1, 2, 3], [4, 5, 6], [7, 8, 9]]\n",
        "\tX_test = [[10, 11, 12], [13, 14, 15], [16, 17, 18]]\n",
        "\ty_train = [1, 0, 1]\n",
        "\ty_test = [0, 1, 0]\n",
        "\treturn X_train, X_test, y_train, y_test\n",
        "\n",
        "# Load the data and split it into training and test sets\n",
        "X_train, X_test,\\\n",
        "\ty_train, y_test = load_data()\n"
      ],
      "metadata": {
        "id": "jNlgpCGEqQES"
      },
      "execution_count": 3,
      "outputs": []
    },
    {
      "cell_type": "code",
      "source": [
        "#Scale the features using standardization\n",
        "scaler = StandardScaler()\n",
        "X_train = scaler.fit_transform(X_train)\n",
        "X_test = scaler.transform(X_test)"
      ],
      "metadata": {
        "id": "aERthhQytda5"
      },
      "execution_count": 4,
      "outputs": []
    },
    {
      "cell_type": "code",
      "source": [
        "#Creating a Kernal SVM model\n",
        "ksvm = svm.SVC(kernel='rbf', C=10.0, gamma=0.1)\n",
        "\n",
        "#Train the model on training data\n",
        "ksvm.fit(X_train, y_train)\n",
        "\n",
        "#Make predictions on test data\n",
        "accuracy = ksvm.score(X_test, y_test)\n",
        "print(\"Kernal SVM Accuracy:\", accuracy)"
      ],
      "metadata": {
        "colab": {
          "base_uri": "https://localhost:8080/"
        },
        "id": "qFtNLZK0tzOz",
        "outputId": "d464a16a-3255-4d87-8400-df59de71b5c6"
      },
      "execution_count": 5,
      "outputs": [
        {
          "output_type": "stream",
          "name": "stdout",
          "text": [
            "Kernal SVM Accuracy: 0.3333333333333333\n"
          ]
        }
      ]
    },
    {
      "cell_type": "code",
      "source": [],
      "metadata": {
        "id": "9tutIkE3uZHO"
      },
      "execution_count": null,
      "outputs": []
    }
  ]
}